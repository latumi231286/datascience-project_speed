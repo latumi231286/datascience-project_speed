{
 "cells": [
  {
   "cell_type": "code",
   "execution_count": 110,
   "metadata": {},
   "outputs": [
    {
     "data": {
      "text/html": [
       "<div>\n",
       "<style>\n",
       "    .dataframe thead tr:only-child th {\n",
       "        text-align: right;\n",
       "    }\n",
       "\n",
       "    .dataframe thead th {\n",
       "        text-align: left;\n",
       "    }\n",
       "\n",
       "    .dataframe tbody tr th {\n",
       "        vertical-align: top;\n",
       "    }\n",
       "</style>\n",
       "<table border=\"1\" class=\"dataframe\">\n",
       "  <thead>\n",
       "    <tr style=\"text-align: right;\">\n",
       "      <th></th>\n",
       "      <th>username</th>\n",
       "      <th>datework</th>\n",
       "      <th>finishtime</th>\n",
       "      <th>totaltime</th>\n",
       "      <th>amount_inhaltsstoffe</th>\n",
       "      <th>amount_zusatzinformationen</th>\n",
       "      <th>status</th>\n",
       "      <th>type</th>\n",
       "    </tr>\n",
       "  </thead>\n",
       "  <tbody>\n",
       "    <tr>\n",
       "      <th>0</th>\n",
       "      <td>dvhdiem</td>\n",
       "      <td>2017-09-08</td>\n",
       "      <td>2017-09-08 06:13:04.275469</td>\n",
       "      <td>840.138469</td>\n",
       "      <td>132.0</td>\n",
       "      <td>0.0</td>\n",
       "      <td>10</td>\n",
       "      <td>Uploaded</td>\n",
       "    </tr>\n",
       "    <tr>\n",
       "      <th>1</th>\n",
       "      <td>dvhdiem</td>\n",
       "      <td>2017-09-08</td>\n",
       "      <td>2017-09-08 06:25:00.871361</td>\n",
       "      <td>715.021361</td>\n",
       "      <td>87.0</td>\n",
       "      <td>12.0</td>\n",
       "      <td>10</td>\n",
       "      <td>Uploaded</td>\n",
       "    </tr>\n",
       "    <tr>\n",
       "      <th>2</th>\n",
       "      <td>dvhdiem</td>\n",
       "      <td>2017-09-08</td>\n",
       "      <td>2017-09-08 06:34:07.595956</td>\n",
       "      <td>545.158956</td>\n",
       "      <td>305.0</td>\n",
       "      <td>0.0</td>\n",
       "      <td>10</td>\n",
       "      <td>Uploaded</td>\n",
       "    </tr>\n",
       "    <tr>\n",
       "      <th>3</th>\n",
       "      <td>dvhdiem</td>\n",
       "      <td>2017-09-08</td>\n",
       "      <td>2017-09-08 06:48:44.003528</td>\n",
       "      <td>874.843528</td>\n",
       "      <td>264.0</td>\n",
       "      <td>37.0</td>\n",
       "      <td>10</td>\n",
       "      <td>Uploaded</td>\n",
       "    </tr>\n",
       "    <tr>\n",
       "      <th>4</th>\n",
       "      <td>dvhdiem</td>\n",
       "      <td>2017-09-08</td>\n",
       "      <td>2017-09-08 06:58:18.496842</td>\n",
       "      <td>572.940842</td>\n",
       "      <td>25.0</td>\n",
       "      <td>0.0</td>\n",
       "      <td>10</td>\n",
       "      <td>Uploaded</td>\n",
       "    </tr>\n",
       "  </tbody>\n",
       "</table>\n",
       "</div>"
      ],
      "text/plain": [
       "  username    datework                  finishtime   totaltime  \\\n",
       "0  dvhdiem  2017-09-08  2017-09-08 06:13:04.275469  840.138469   \n",
       "1  dvhdiem  2017-09-08  2017-09-08 06:25:00.871361  715.021361   \n",
       "2  dvhdiem  2017-09-08  2017-09-08 06:34:07.595956  545.158956   \n",
       "3  dvhdiem  2017-09-08  2017-09-08 06:48:44.003528  874.843528   \n",
       "4  dvhdiem  2017-09-08  2017-09-08 06:58:18.496842  572.940842   \n",
       "\n",
       "   amount_inhaltsstoffe  amount_zusatzinformationen  status      type  \n",
       "0                 132.0                         0.0      10  Uploaded  \n",
       "1                  87.0                        12.0      10  Uploaded  \n",
       "2                 305.0                         0.0      10  Uploaded  \n",
       "3                 264.0                        37.0      10  Uploaded  \n",
       "4                  25.0                         0.0      10  Uploaded  "
      ]
     },
     "execution_count": 110,
     "metadata": {},
     "output_type": "execute_result"
    }
   ],
   "source": [
    "import numpy as np\n",
    "import pandas as pd\n",
    "%matplotlib inline\n",
    "import matplotlib.pyplot as plt\n",
    "\n",
    "rootFolder = \"/home/giangtm/Work/Projects/DataScience/dataset/\"\n",
    "df= pd.read_csv(rootFolder + \"codecheck-speed-up.csv\",sep=';')\n",
    "df.head()"
   ]
  },
  {
   "cell_type": "code",
   "execution_count": 105,
   "metadata": {},
   "outputs": [
    {
     "name": "stdout",
     "output_type": "stream",
     "text": [
      "2457\n",
      "68766\n"
     ]
    }
   ],
   "source": [
    "sum(df['totaltime'].isnull())\n",
    "print(sum(df['username'].isnull()))\n",
    "print(sum(df['username'].notnull()))"
   ]
  },
  {
   "cell_type": "code",
   "execution_count": 111,
   "metadata": {},
   "outputs": [
    {
     "data": {
      "text/html": [
       "<div>\n",
       "<style>\n",
       "    .dataframe thead tr:only-child th {\n",
       "        text-align: right;\n",
       "    }\n",
       "\n",
       "    .dataframe thead th {\n",
       "        text-align: left;\n",
       "    }\n",
       "\n",
       "    .dataframe tbody tr th {\n",
       "        vertical-align: top;\n",
       "    }\n",
       "</style>\n",
       "<table border=\"1\" class=\"dataframe\">\n",
       "  <thead>\n",
       "    <tr style=\"text-align: right;\">\n",
       "      <th></th>\n",
       "      <th>username</th>\n",
       "      <th>datework</th>\n",
       "      <th>finishtime</th>\n",
       "      <th>totaltime</th>\n",
       "      <th>status</th>\n",
       "      <th>type</th>\n",
       "    </tr>\n",
       "  </thead>\n",
       "  <tbody>\n",
       "    <tr>\n",
       "      <th>0</th>\n",
       "      <td>dvhdiem</td>\n",
       "      <td>2017-09-08</td>\n",
       "      <td>2017-09-08 06:13:04.275469</td>\n",
       "      <td>840.138469</td>\n",
       "      <td>10</td>\n",
       "      <td>Uploaded</td>\n",
       "    </tr>\n",
       "    <tr>\n",
       "      <th>1</th>\n",
       "      <td>dvhdiem</td>\n",
       "      <td>2017-09-08</td>\n",
       "      <td>2017-09-08 06:25:00.871361</td>\n",
       "      <td>715.021361</td>\n",
       "      <td>10</td>\n",
       "      <td>Uploaded</td>\n",
       "    </tr>\n",
       "    <tr>\n",
       "      <th>2</th>\n",
       "      <td>dvhdiem</td>\n",
       "      <td>2017-09-08</td>\n",
       "      <td>2017-09-08 06:34:07.595956</td>\n",
       "      <td>545.158956</td>\n",
       "      <td>10</td>\n",
       "      <td>Uploaded</td>\n",
       "    </tr>\n",
       "    <tr>\n",
       "      <th>3</th>\n",
       "      <td>dvhdiem</td>\n",
       "      <td>2017-09-08</td>\n",
       "      <td>2017-09-08 06:48:44.003528</td>\n",
       "      <td>874.843528</td>\n",
       "      <td>10</td>\n",
       "      <td>Uploaded</td>\n",
       "    </tr>\n",
       "    <tr>\n",
       "      <th>4</th>\n",
       "      <td>dvhdiem</td>\n",
       "      <td>2017-09-08</td>\n",
       "      <td>2017-09-08 06:58:18.496842</td>\n",
       "      <td>572.940842</td>\n",
       "      <td>10</td>\n",
       "      <td>Uploaded</td>\n",
       "    </tr>\n",
       "  </tbody>\n",
       "</table>\n",
       "</div>"
      ],
      "text/plain": [
       "  username    datework                  finishtime   totaltime  status  \\\n",
       "0  dvhdiem  2017-09-08  2017-09-08 06:13:04.275469  840.138469      10   \n",
       "1  dvhdiem  2017-09-08  2017-09-08 06:25:00.871361  715.021361      10   \n",
       "2  dvhdiem  2017-09-08  2017-09-08 06:34:07.595956  545.158956      10   \n",
       "3  dvhdiem  2017-09-08  2017-09-08 06:48:44.003528  874.843528      10   \n",
       "4  dvhdiem  2017-09-08  2017-09-08 06:58:18.496842  572.940842      10   \n",
       "\n",
       "       type  \n",
       "0  Uploaded  \n",
       "1  Uploaded  \n",
       "2  Uploaded  \n",
       "3  Uploaded  \n",
       "4  Uploaded  "
      ]
     },
     "execution_count": 111,
     "metadata": {},
     "output_type": "execute_result"
    }
   ],
   "source": [
    "df = df.drop(['amount_inhaltsstoffe','amount_zusatzinformationen'], axis=1) \n",
    "df.head()"
   ]
  },
  {
   "cell_type": "code",
   "execution_count": 112,
   "metadata": {},
   "outputs": [],
   "source": [
    "# mean time to fill to blank\n",
    "meanTime = np.mean(df.totaltime)\n",
    "meanTime\n",
    "# df['null_time'] = df['totaltime'].apply(lambda x:False if x is None else True)\n",
    "# df['totaltime'].value_counts()\n",
    "df.totaltime = df.totaltime.fillna(meanTime)\n",
    "# df.username = df.totaltime.fillna('null')"
   ]
  },
  {
   "cell_type": "code",
   "execution_count": 108,
   "metadata": {},
   "outputs": [],
   "source": [
    "# def name_extract(word): \n",
    "#     return 'ew' if word is None else 'ne'\n",
    "# # df = df.drop(['username_prefix'], axis=1)  \n",
    "# df2 = pd.DataFrame({'username_prefix':df['username'].apply(name_extract)})\n",
    "# # df2.head()\n",
    "# df = pd.merge(df, df2, left_index = True, right_index = True) # merges on index\n",
    "# df.head()"
   ]
  },
  {
   "cell_type": "code",
   "execution_count": 155,
   "metadata": {},
   "outputs": [
    {
     "data": {
      "text/plain": [
       "username   status\n",
       "ntxuan     10        1\n",
       "pntnguyen  10        2\n",
       "pttnghia   10        5\n",
       "vtrong     10        8\n",
       "Name: status, dtype: int64"
      ]
     },
     "execution_count": 155,
     "metadata": {},
     "output_type": "execute_result"
    }
   ],
   "source": [
    "# find user who appear less than 100\n",
    "df_10 = df[df['status'] == 10]\n",
    "temp1 = df_10.groupby(['username', 'status']).status.count()\n",
    "temp1[temp1 < 100]\n",
    "# temp1[temp1 > 100]\n",
    "\n"
   ]
  },
  {
   "cell_type": "code",
   "execution_count": 136,
   "metadata": {
    "collapsed": true
   },
   "outputs": [],
   "source": [
    "def group_salutation(old_salutation):\n",
    " if old_salutation == 'ntxuan':\n",
    "    return('Others')\n",
    " else:\n",
    "    if old_salutation == 'pntnguyen':\n",
    "       return('Others')\n",
    "    else:\n",
    "       if old_salutation == 'pttnghia':\n",
    "          return('Others')\n",
    "       else: \n",
    "          if old_salutation == 'vtrong':\n",
    "             return('Others')\n",
    "          else:\n",
    "             return(old_salutation)\n",
    "\n",
    "                    \n",
    "                    "
   ]
  },
  {
   "cell_type": "code",
   "execution_count": 161,
   "metadata": {
    "collapsed": true
   },
   "outputs": [],
   "source": [
    "df_10_tmp = pd.DataFrame({'New_Username':df_10['username'].apply(group_salutation)})\n",
    "df_10 = pd.merge(df_10, df_10_tmp, left_index = True, right_index = True)"
   ]
  },
  {
   "cell_type": "code",
   "execution_count": 173,
   "metadata": {},
   "outputs": [
    {
     "data": {
      "text/plain": [
       "<matplotlib.axes._subplots.AxesSubplot at 0x7f5c3ed03748>"
      ]
     },
     "execution_count": 173,
     "metadata": {},
     "output_type": "execute_result"
    },
    {
     "data": {
      "image/png": "[encoded data removed]",
      "text/plain": [
       "<matplotlib.figure.Figure at 0x7f5c3ed19550>"
      ]
     },
     "metadata": {},
     "output_type": "display_data"
    }
   ],
   "source": [
    "\n",
    "temp1 = df_10.groupby('New_Username').status.count()\n",
    "temp1\n",
    "df_10.boxplot(figsize=(15,15), column='totaltime', by = 'New_Username',showmeans=True)\n"
   ]
  }
 ],
 "metadata": {
  "kernelspec": {
   "display_name": "Python 3",
   "language": "python",
   "name": "python3"
  },
  "language_info": {
   "codemirror_mode": {
    "name": "ipython",
    "version": 3
   },
   "file_extension": ".py",
   "mimetype": "text/x-python",
   "name": "python",
   "nbconvert_exporter": "python",
   "pygments_lexer": "ipython3",
   "version": "3.6.2"
  }
 },
 "nbformat": 4,
 "nbformat_minor": 2
}
